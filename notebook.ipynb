{
 "cells": [
  {
   "cell_type": "code",
   "execution_count": 6,
   "metadata": {},
   "outputs": [
    {
     "name": "stdout",
     "output_type": "stream",
     "text": [
      "I know this:\n",
      "Capital: Seoul\n",
      "Language: Korean\n",
      "Food: Kimchi\n",
      "Currency: South Korean Won"
     ]
    },
    {
     "data": {
      "text/plain": [
       "AIMessageChunk(content='I know this:\\nCapital: Seoul\\nLanguage: Korean\\nFood: Kimchi\\nCurrency: South Korean Won')"
      ]
     },
     "execution_count": 6,
     "metadata": {},
     "output_type": "execute_result"
    }
   ],
   "source": [
    "from langchain.llms.openai import OpenAI  # 기본값으로 davinchi-003를사용\n",
    "from langchain.chat_models import ChatOpenAI  # 기본값으로 GTP3.5-Turbo를 사용\n",
    "from langchain.schema import HumanMessage, AIMessage, SystemMessage, BaseOutputParser\n",
    "from langchain.prompts import ChatPromptTemplate, PromptTemplate\n",
    "from langchain.callbacks import StreamingStdOutCallbackHandler\n",
    "from langchain.prompts.few_shot import FewShotChatMessagePromptTemplate\n",
    "\n",
    "# streaming=True, callbacks=[StreamingStdOutCallbackHandler()] 옵션을 넣어주면 실시간 출력을 볼 수 있다.\n",
    "chat = ChatOpenAI(\n",
    "    temperature=0.1, streaming=True, callbacks=[StreamingStdOutCallbackHandler()]\n",
    ")\n",
    "\n",
    "examples = [\n",
    "    {\n",
    "        \"country\": \"Japan\",\n",
    "        \"answer\": \"\"\"\n",
    "        I know this:\n",
    "        Capital: Tokyo\n",
    "        Languae: Japanese\n",
    "        Food: Sushi\n",
    "        :Currency: Yen\n",
    "        \"\"\",\n",
    "    }\n",
    "]\n",
    "\n",
    "example_prompt = ChatPromptTemplate.from_messages([\n",
    "    (\"human\", \"What do you know about {country}?\"),\n",
    "    (\"ai\", \"{answer}\")\n",
    "])\n",
    "\n",
    "\n",
    "example_prompt = FewShotChatMessagePromptTemplate(\n",
    "    # ChatPromptTemplate을 사용해서 답변 양식을 만든다.\n",
    "    example_prompt=example_prompt,\n",
    "    # 실제 답변의 예시를 만든다.\n",
    "    examples=examples,\n",
    ")\n",
    "\n",
    "\n",
    "final_prompt = ChatPromptTemplate.from_messages([\n",
    "    (\"system\", \"You are a geography expert\"),\n",
    "    # 이전에 니가 이런식으로 답변했다는 것을 예로 들어준다.\n",
    "    example_prompt,\n",
    "    (\"human\", \"What do you know about {country}?\")\n",
    "])\n",
    "\n",
    "chain = final_prompt | chat\n",
    "\n",
    "chain.invoke({\n",
    "    \"country\":\"Korea\"\n",
    "})"
   ]
  },
  {
   "cell_type": "code",
   "execution_count": null,
   "metadata": {},
   "outputs": [],
   "source": [
    "from langchain.schema import BaseOutputParser\n",
    "# 받은 문자열을 ,을 기준으로 리스트로 만든다.\n",
    "class CommaOutputParser(BaseOutputParser):\n",
    "    def parse(self, text):\n",
    "        items = text.strip().split(\",\")\n",
    "        # list 각 항목에 다시 str.strip 함수를 적용\n",
    "        # str.strip 함수는 각 문자열의 앞 뒤 공백을 제거한다.\n",
    "        return list(map(str.strip, items))\n",
    "\n",
    "parser = CommaOutputParser()\n",
    "    "
   ]
  },
  {
   "cell_type": "code",
   "execution_count": null,
   "metadata": {},
   "outputs": [],
   "source": [
    "from langchain.prompts import ChatPromptTemplate\n",
    "\n",
    "template = ChatPromptTemplate.from_messages(\n",
    "    [(\"system\", \"You are a list generating machine. Everythig you are asked will be answered with a comma seperated list of max {max_items}. Do not reply with anything else.\"),\n",
    "     (\"human\", \"{question}\"),]\n",
    ")\n",
    "\n",
    "# chain은 PromptTemplate | Model | OutputParser 로 만들 수 있다.\n",
    "chain = template | chat | CommaOutputParser()\n",
    "\n",
    "chain.invoke({\n",
    "    \"max_items\": 5,\n",
    "    \"question\": \"what are animals?\"\n",
    "})"
   ]
  },
  {
   "cell_type": "code",
   "execution_count": null,
   "metadata": {},
   "outputs": [],
   "source": []
  }
 ],
 "metadata": {
  "kernelspec": {
   "display_name": ".venv",
   "language": "python",
   "name": "python3"
  },
  "language_info": {
   "codemirror_mode": {
    "name": "ipython",
    "version": 3
   },
   "file_extension": ".py",
   "mimetype": "text/x-python",
   "name": "python",
   "nbconvert_exporter": "python",
   "pygments_lexer": "ipython3",
   "version": "3.11.7"
  }
 },
 "nbformat": 4,
 "nbformat_minor": 2
}
