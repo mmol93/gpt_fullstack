{
 "cells": [
  {
   "cell_type": "code",
   "execution_count": 11,
   "metadata": {},
   "outputs": [
    {
     "name": "stdout",
     "output_type": "stream",
     "text": [
      "\n",
      "\n",
      "あとからリボまたはあとから分割へ変更後の当月（今月）請求金額の確認方法は？\n",
      "\n",
      "\n",
      "最新の当月請求金額は以下方法をご確認ください。\n",
      "\n",
      "\n",
      "■Webで確認お支払い方法変更の手続きをされた翌々日までに更新いたします。\n",
      "\n",
      "\n",
      "明細をみる\n",
      "アプリにログインができない方は「ＩＤ・パスワードをお忘れの方」でお手続きください。\n",
      "■音声ガイダンスで確認毎月12日からお支払日当日までご確認いただけます。\n",
      "\n",
      "\n",
      "\n",
      "\n",
      "\n",
      "サービス番号　１１＃\n",
      "\n",
      "お手続きができない方またはカード番号がご不明な方は以下にてお問い合わせください。\n",
      "\n",
      "メールできく\n",
      "※入力された個人情報は、お問合せ等への回答のため、また、当社が公表している目的で使用いたします。個人情報保護法などに基づく公表事項 \n",
      " チャットできく\n",
      "\n",
      "\n",
      "\n"
     ]
    }
   ],
   "source": [
    "from bs4 import BeautifulSoup\n",
    "import requests\n",
    "import cloudscraper\n",
    "\n",
    "# FAQ 페이지에서 내용이 있는 부분만 가져오기\n",
    "url = \"https://lifecard.dga.jp/faq_detail.html?id=1320\"\n",
    "scraper = cloudscraper.create_scraper()\n",
    "response = scraper.get(url, timeout=15)\n",
    "soup = BeautifulSoup(response.content, 'html.parser')\n",
    "\n",
    "\n",
    "print(soup.find('div', class_=\"faq-box\").text)\n"
   ]
  },
  {
   "cell_type": "code",
   "execution_count": null,
   "metadata": {},
   "outputs": [],
   "source": []
  }
 ],
 "metadata": {
  "kernelspec": {
   "display_name": ".venv",
   "language": "python",
   "name": "python3"
  },
  "language_info": {
   "codemirror_mode": {
    "name": "ipython",
    "version": 3
   },
   "file_extension": ".py",
   "mimetype": "text/x-python",
   "name": "python",
   "nbconvert_exporter": "python",
   "pygments_lexer": "ipython3",
   "version": "3.11.7"
  }
 },
 "nbformat": 4,
 "nbformat_minor": 2
}
